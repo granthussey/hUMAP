{
 "cells": [
  {
   "cell_type": "code",
   "execution_count": 1,
   "metadata": {},
   "outputs": [],
   "source": [
    "import pandas as pd\n",
    "import numpy as np\n",
    "import matplotlib\n",
    "import matplotlib.pyplot as plt\n",
    "import seaborn"
   ]
  },
  {
   "cell_type": "code",
   "execution_count": 2,
   "metadata": {},
   "outputs": [
    {
     "ename": "FileNotFoundError",
     "evalue": "[Errno 2] No such file or directory: '/Users/schluj05/data/MSKCCDATA/olin/Cell population frequencies.csv'",
     "output_type": "error",
     "traceback": [
      "\u001b[0;31m---------------------------------------------------------------------------\u001b[0m",
      "\u001b[0;31mFileNotFoundError\u001b[0m                         Traceback (most recent call last)",
      "\u001b[0;32m/var/folders/4m/2dccg9mx517b91gw03986s6m0000gn/T/ipykernel_9337/501333797.py\u001b[0m in \u001b[0;36m<module>\u001b[0;34m\u001b[0m\n\u001b[0;32m----> 1\u001b[0;31m \u001b[0mdw\u001b[0m \u001b[0;34m=\u001b[0m \u001b[0mpd\u001b[0m\u001b[0;34m.\u001b[0m\u001b[0mread_csv\u001b[0m\u001b[0;34m(\u001b[0m\u001b[0;34m\"/Users/schluj05/data/MSKCCDATA/olin/Cell population frequencies.csv\"\u001b[0m\u001b[0;34m)\u001b[0m\u001b[0;34m\u001b[0m\u001b[0;34m\u001b[0m\u001b[0m\n\u001b[0m\u001b[1;32m      2\u001b[0m \u001b[0mdw\u001b[0m\u001b[0;34m[\u001b[0m\u001b[0;34m'T'\u001b[0m\u001b[0;34m]\u001b[0m \u001b[0;34m=\u001b[0m \u001b[0mdw\u001b[0m\u001b[0;34m[\u001b[0m\u001b[0;34m'Time.point'\u001b[0m\u001b[0;34m]\u001b[0m\u001b[0;34m.\u001b[0m\u001b[0mapply\u001b[0m\u001b[0;34m(\u001b[0m\u001b[0;32mlambda\u001b[0m \u001b[0mt\u001b[0m\u001b[0;34m:\u001b[0m \u001b[0;36m1\u001b[0m \u001b[0;32mif\u001b[0m \u001b[0mt\u001b[0m\u001b[0;34m==\u001b[0m\u001b[0;34m'Birth'\u001b[0m \u001b[0;32melse\u001b[0m\u001b[0;34m(\u001b[0m\u001b[0;36m0\u001b[0m \u001b[0;32mif\u001b[0m \u001b[0mt\u001b[0m \u001b[0;34m==\u001b[0m \u001b[0;34m'Cord blood'\u001b[0m \u001b[0;32melse\u001b[0m\u001b[0;34m(\u001b[0m\u001b[0;36m2\u001b[0m \u001b[0;32mif\u001b[0m \u001b[0mt\u001b[0m\u001b[0;34m==\u001b[0m\u001b[0;34m'Week 1'\u001b[0m \u001b[0;32melse\u001b[0m\u001b[0;34m(\u001b[0m\u001b[0;36m3\u001b[0m \u001b[0;32mif\u001b[0m \u001b[0mt\u001b[0m \u001b[0;34m==\u001b[0m \u001b[0;34m'Week 4'\u001b[0m \u001b[0;32melse\u001b[0m \u001b[0;36m4\u001b[0m\u001b[0;34m)\u001b[0m\u001b[0;34m)\u001b[0m\u001b[0;34m)\u001b[0m\u001b[0;34m)\u001b[0m\u001b[0;34m\u001b[0m\u001b[0;34m\u001b[0m\u001b[0m\n",
      "\u001b[0;32m~/opt/miniconda3/envs/lab/lib/python3.8/site-packages/pandas/io/parsers.py\u001b[0m in \u001b[0;36mread_csv\u001b[0;34m(filepath_or_buffer, sep, delimiter, header, names, index_col, usecols, squeeze, prefix, mangle_dupe_cols, dtype, engine, converters, true_values, false_values, skipinitialspace, skiprows, skipfooter, nrows, na_values, keep_default_na, na_filter, verbose, skip_blank_lines, parse_dates, infer_datetime_format, keep_date_col, date_parser, dayfirst, cache_dates, iterator, chunksize, compression, thousands, decimal, lineterminator, quotechar, quoting, doublequote, escapechar, comment, encoding, dialect, error_bad_lines, warn_bad_lines, delim_whitespace, low_memory, memory_map, float_precision, storage_options)\u001b[0m\n\u001b[1;32m    608\u001b[0m     \u001b[0mkwds\u001b[0m\u001b[0;34m.\u001b[0m\u001b[0mupdate\u001b[0m\u001b[0;34m(\u001b[0m\u001b[0mkwds_defaults\u001b[0m\u001b[0;34m)\u001b[0m\u001b[0;34m\u001b[0m\u001b[0;34m\u001b[0m\u001b[0m\n\u001b[1;32m    609\u001b[0m \u001b[0;34m\u001b[0m\u001b[0m\n\u001b[0;32m--> 610\u001b[0;31m     \u001b[0;32mreturn\u001b[0m \u001b[0m_read\u001b[0m\u001b[0;34m(\u001b[0m\u001b[0mfilepath_or_buffer\u001b[0m\u001b[0;34m,\u001b[0m \u001b[0mkwds\u001b[0m\u001b[0;34m)\u001b[0m\u001b[0;34m\u001b[0m\u001b[0;34m\u001b[0m\u001b[0m\n\u001b[0m\u001b[1;32m    611\u001b[0m \u001b[0;34m\u001b[0m\u001b[0m\n\u001b[1;32m    612\u001b[0m \u001b[0;34m\u001b[0m\u001b[0m\n",
      "\u001b[0;32m~/opt/miniconda3/envs/lab/lib/python3.8/site-packages/pandas/io/parsers.py\u001b[0m in \u001b[0;36m_read\u001b[0;34m(filepath_or_buffer, kwds)\u001b[0m\n\u001b[1;32m    460\u001b[0m \u001b[0;34m\u001b[0m\u001b[0m\n\u001b[1;32m    461\u001b[0m     \u001b[0;31m# Create the parser.\u001b[0m\u001b[0;34m\u001b[0m\u001b[0;34m\u001b[0m\u001b[0;34m\u001b[0m\u001b[0m\n\u001b[0;32m--> 462\u001b[0;31m     \u001b[0mparser\u001b[0m \u001b[0;34m=\u001b[0m \u001b[0mTextFileReader\u001b[0m\u001b[0;34m(\u001b[0m\u001b[0mfilepath_or_buffer\u001b[0m\u001b[0;34m,\u001b[0m \u001b[0;34m**\u001b[0m\u001b[0mkwds\u001b[0m\u001b[0;34m)\u001b[0m\u001b[0;34m\u001b[0m\u001b[0;34m\u001b[0m\u001b[0m\n\u001b[0m\u001b[1;32m    463\u001b[0m \u001b[0;34m\u001b[0m\u001b[0m\n\u001b[1;32m    464\u001b[0m     \u001b[0;32mif\u001b[0m \u001b[0mchunksize\u001b[0m \u001b[0;32mor\u001b[0m \u001b[0miterator\u001b[0m\u001b[0;34m:\u001b[0m\u001b[0;34m\u001b[0m\u001b[0;34m\u001b[0m\u001b[0m\n",
      "\u001b[0;32m~/opt/miniconda3/envs/lab/lib/python3.8/site-packages/pandas/io/parsers.py\u001b[0m in \u001b[0;36m__init__\u001b[0;34m(self, f, engine, **kwds)\u001b[0m\n\u001b[1;32m    817\u001b[0m             \u001b[0mself\u001b[0m\u001b[0;34m.\u001b[0m\u001b[0moptions\u001b[0m\u001b[0;34m[\u001b[0m\u001b[0;34m\"has_index_names\"\u001b[0m\u001b[0;34m]\u001b[0m \u001b[0;34m=\u001b[0m \u001b[0mkwds\u001b[0m\u001b[0;34m[\u001b[0m\u001b[0;34m\"has_index_names\"\u001b[0m\u001b[0;34m]\u001b[0m\u001b[0;34m\u001b[0m\u001b[0;34m\u001b[0m\u001b[0m\n\u001b[1;32m    818\u001b[0m \u001b[0;34m\u001b[0m\u001b[0m\n\u001b[0;32m--> 819\u001b[0;31m         \u001b[0mself\u001b[0m\u001b[0;34m.\u001b[0m\u001b[0m_engine\u001b[0m \u001b[0;34m=\u001b[0m \u001b[0mself\u001b[0m\u001b[0;34m.\u001b[0m\u001b[0m_make_engine\u001b[0m\u001b[0;34m(\u001b[0m\u001b[0mself\u001b[0m\u001b[0;34m.\u001b[0m\u001b[0mengine\u001b[0m\u001b[0;34m)\u001b[0m\u001b[0;34m\u001b[0m\u001b[0;34m\u001b[0m\u001b[0m\n\u001b[0m\u001b[1;32m    820\u001b[0m \u001b[0;34m\u001b[0m\u001b[0m\n\u001b[1;32m    821\u001b[0m     \u001b[0;32mdef\u001b[0m \u001b[0mclose\u001b[0m\u001b[0;34m(\u001b[0m\u001b[0mself\u001b[0m\u001b[0;34m)\u001b[0m\u001b[0;34m:\u001b[0m\u001b[0;34m\u001b[0m\u001b[0;34m\u001b[0m\u001b[0m\n",
      "\u001b[0;32m~/opt/miniconda3/envs/lab/lib/python3.8/site-packages/pandas/io/parsers.py\u001b[0m in \u001b[0;36m_make_engine\u001b[0;34m(self, engine)\u001b[0m\n\u001b[1;32m   1048\u001b[0m             )\n\u001b[1;32m   1049\u001b[0m         \u001b[0;31m# error: Too many arguments for \"ParserBase\"\u001b[0m\u001b[0;34m\u001b[0m\u001b[0;34m\u001b[0m\u001b[0;34m\u001b[0m\u001b[0m\n\u001b[0;32m-> 1050\u001b[0;31m         \u001b[0;32mreturn\u001b[0m \u001b[0mmapping\u001b[0m\u001b[0;34m[\u001b[0m\u001b[0mengine\u001b[0m\u001b[0;34m]\u001b[0m\u001b[0;34m(\u001b[0m\u001b[0mself\u001b[0m\u001b[0;34m.\u001b[0m\u001b[0mf\u001b[0m\u001b[0;34m,\u001b[0m \u001b[0;34m**\u001b[0m\u001b[0mself\u001b[0m\u001b[0;34m.\u001b[0m\u001b[0moptions\u001b[0m\u001b[0;34m)\u001b[0m  \u001b[0;31m# type: ignore[call-arg]\u001b[0m\u001b[0;34m\u001b[0m\u001b[0;34m\u001b[0m\u001b[0m\n\u001b[0m\u001b[1;32m   1051\u001b[0m \u001b[0;34m\u001b[0m\u001b[0m\n\u001b[1;32m   1052\u001b[0m     \u001b[0;32mdef\u001b[0m \u001b[0m_failover_to_python\u001b[0m\u001b[0;34m(\u001b[0m\u001b[0mself\u001b[0m\u001b[0;34m)\u001b[0m\u001b[0;34m:\u001b[0m\u001b[0;34m\u001b[0m\u001b[0;34m\u001b[0m\u001b[0m\n",
      "\u001b[0;32m~/opt/miniconda3/envs/lab/lib/python3.8/site-packages/pandas/io/parsers.py\u001b[0m in \u001b[0;36m__init__\u001b[0;34m(self, src, **kwds)\u001b[0m\n\u001b[1;32m   1865\u001b[0m \u001b[0;34m\u001b[0m\u001b[0m\n\u001b[1;32m   1866\u001b[0m         \u001b[0;31m# open handles\u001b[0m\u001b[0;34m\u001b[0m\u001b[0;34m\u001b[0m\u001b[0;34m\u001b[0m\u001b[0m\n\u001b[0;32m-> 1867\u001b[0;31m         \u001b[0mself\u001b[0m\u001b[0;34m.\u001b[0m\u001b[0m_open_handles\u001b[0m\u001b[0;34m(\u001b[0m\u001b[0msrc\u001b[0m\u001b[0;34m,\u001b[0m \u001b[0mkwds\u001b[0m\u001b[0;34m)\u001b[0m\u001b[0;34m\u001b[0m\u001b[0;34m\u001b[0m\u001b[0m\n\u001b[0m\u001b[1;32m   1868\u001b[0m         \u001b[0;32massert\u001b[0m \u001b[0mself\u001b[0m\u001b[0;34m.\u001b[0m\u001b[0mhandles\u001b[0m \u001b[0;32mis\u001b[0m \u001b[0;32mnot\u001b[0m \u001b[0;32mNone\u001b[0m\u001b[0;34m\u001b[0m\u001b[0;34m\u001b[0m\u001b[0m\n\u001b[1;32m   1869\u001b[0m         \u001b[0;32mfor\u001b[0m \u001b[0mkey\u001b[0m \u001b[0;32min\u001b[0m \u001b[0;34m(\u001b[0m\u001b[0;34m\"storage_options\"\u001b[0m\u001b[0;34m,\u001b[0m \u001b[0;34m\"encoding\"\u001b[0m\u001b[0;34m,\u001b[0m \u001b[0;34m\"memory_map\"\u001b[0m\u001b[0;34m,\u001b[0m \u001b[0;34m\"compression\"\u001b[0m\u001b[0;34m)\u001b[0m\u001b[0;34m:\u001b[0m\u001b[0;34m\u001b[0m\u001b[0;34m\u001b[0m\u001b[0m\n",
      "\u001b[0;32m~/opt/miniconda3/envs/lab/lib/python3.8/site-packages/pandas/io/parsers.py\u001b[0m in \u001b[0;36m_open_handles\u001b[0;34m(self, src, kwds)\u001b[0m\n\u001b[1;32m   1360\u001b[0m         \u001b[0mLet\u001b[0m \u001b[0mthe\u001b[0m \u001b[0mreaders\u001b[0m \u001b[0mopen\u001b[0m \u001b[0mIOHanldes\u001b[0m \u001b[0mafter\u001b[0m \u001b[0mthey\u001b[0m \u001b[0mare\u001b[0m \u001b[0mdone\u001b[0m \u001b[0;32mwith\u001b[0m \u001b[0mtheir\u001b[0m \u001b[0mpotential\u001b[0m \u001b[0mraises\u001b[0m\u001b[0;34m.\u001b[0m\u001b[0;34m\u001b[0m\u001b[0;34m\u001b[0m\u001b[0m\n\u001b[1;32m   1361\u001b[0m         \"\"\"\n\u001b[0;32m-> 1362\u001b[0;31m         self.handles = get_handle(\n\u001b[0m\u001b[1;32m   1363\u001b[0m             \u001b[0msrc\u001b[0m\u001b[0;34m,\u001b[0m\u001b[0;34m\u001b[0m\u001b[0;34m\u001b[0m\u001b[0m\n\u001b[1;32m   1364\u001b[0m             \u001b[0;34m\"r\"\u001b[0m\u001b[0;34m,\u001b[0m\u001b[0;34m\u001b[0m\u001b[0;34m\u001b[0m\u001b[0m\n",
      "\u001b[0;32m~/opt/miniconda3/envs/lab/lib/python3.8/site-packages/pandas/io/common.py\u001b[0m in \u001b[0;36mget_handle\u001b[0;34m(path_or_buf, mode, encoding, compression, memory_map, is_text, errors, storage_options)\u001b[0m\n\u001b[1;32m    640\u001b[0m                 \u001b[0merrors\u001b[0m \u001b[0;34m=\u001b[0m \u001b[0;34m\"replace\"\u001b[0m\u001b[0;34m\u001b[0m\u001b[0;34m\u001b[0m\u001b[0m\n\u001b[1;32m    641\u001b[0m             \u001b[0;31m# Encoding\u001b[0m\u001b[0;34m\u001b[0m\u001b[0;34m\u001b[0m\u001b[0;34m\u001b[0m\u001b[0m\n\u001b[0;32m--> 642\u001b[0;31m             handle = open(\n\u001b[0m\u001b[1;32m    643\u001b[0m                 \u001b[0mhandle\u001b[0m\u001b[0;34m,\u001b[0m\u001b[0;34m\u001b[0m\u001b[0;34m\u001b[0m\u001b[0m\n\u001b[1;32m    644\u001b[0m                 \u001b[0mioargs\u001b[0m\u001b[0;34m.\u001b[0m\u001b[0mmode\u001b[0m\u001b[0;34m,\u001b[0m\u001b[0;34m\u001b[0m\u001b[0;34m\u001b[0m\u001b[0m\n",
      "\u001b[0;31mFileNotFoundError\u001b[0m: [Errno 2] No such file or directory: '/Users/schluj05/data/MSKCCDATA/olin/Cell population frequencies.csv'"
     ]
    }
   ],
   "source": [
    "dw = pd.read_csv(\"/Users/schluj05/data/MSKCCDATA/olin/Cell population frequencies.csv\")\n",
    "dw['T'] = dw['Time.point'].apply(lambda t: 1 if t=='Birth' else(0 if t == 'Cord blood' else(2 if t=='Week 1' else(3 if t == 'Week 4' else 4))))"
   ]
  },
  {
   "cell_type": "code",
   "execution_count": 4,
   "metadata": {},
   "outputs": [
    {
     "data": {
      "text/html": [
       "<div>\n",
       "<style scoped>\n",
       "    .dataframe tbody tr th:only-of-type {\n",
       "        vertical-align: middle;\n",
       "    }\n",
       "\n",
       "    .dataframe tbody tr th {\n",
       "        vertical-align: top;\n",
       "    }\n",
       "\n",
       "    .dataframe thead th {\n",
       "        text-align: right;\n",
       "    }\n",
       "</style>\n",
       "<table border=\"1\" class=\"dataframe\">\n",
       "  <thead>\n",
       "    <tr style=\"text-align: right;\">\n",
       "      <th></th>\n",
       "      <th>mean</th>\n",
       "      <th>var</th>\n",
       "    </tr>\n",
       "    <tr>\n",
       "      <th>T</th>\n",
       "      <th></th>\n",
       "      <th></th>\n",
       "    </tr>\n",
       "  </thead>\n",
       "  <tbody>\n",
       "    <tr>\n",
       "      <th>0</th>\n",
       "      <td>0.072858</td>\n",
       "      <td>0.002251</td>\n",
       "    </tr>\n",
       "    <tr>\n",
       "      <th>1</th>\n",
       "      <td>0.060240</td>\n",
       "      <td>0.000712</td>\n",
       "    </tr>\n",
       "    <tr>\n",
       "      <th>2</th>\n",
       "      <td>0.124783</td>\n",
       "      <td>0.003571</td>\n",
       "    </tr>\n",
       "    <tr>\n",
       "      <th>3</th>\n",
       "      <td>0.113825</td>\n",
       "      <td>0.002148</td>\n",
       "    </tr>\n",
       "    <tr>\n",
       "      <th>4</th>\n",
       "      <td>0.063115</td>\n",
       "      <td>0.000843</td>\n",
       "    </tr>\n",
       "  </tbody>\n",
       "</table>\n",
       "</div>"
      ],
      "text/plain": [
       "       mean       var\n",
       "T                    \n",
       "0  0.072858  0.002251\n",
       "1  0.060240  0.000712\n",
       "2  0.124783  0.003571\n",
       "3  0.113825  0.002148\n",
       "4  0.063115  0.000843"
      ]
     },
     "execution_count": 4,
     "metadata": {},
     "output_type": "execute_result"
    }
   ],
   "source": [
    "dw.sort_values('T').groupby('T').agg(['mean', 'var'])['CD14pos_monocytes']"
   ]
  },
  {
   "cell_type": "code",
   "execution_count": 5,
   "metadata": {},
   "outputs": [],
   "source": [
    "dw['lymphocytes'] = dw[['CD27neg_Switched_memory_B_cells',\n",
    "       'CD27pos_Switched_memory_B_cells', 'CD4pos_central_memory_T_cells',\n",
    "       'CD4pos_effector_memory_T_cells', 'CD4pos_Naive_T_cells',\n",
    "       'CD4pos_T_EMRA', 'CD56bright_NK_cells', 'CD56dim_NK_cells',\n",
    "       'CD8pos_central_memory_T_cells', 'CD8pos_effector_memory_T_cells',\n",
    "       'CD8pos_Naive_T_cells', 'CD8pos_T_EMRA', 'Naive_B_cells',\n",
    "       'Plasmablasts', 'Unswitched_memory_B_cells',]].sum(axis=1)"
   ]
  },
  {
   "cell_type": "code",
   "execution_count": 6,
   "metadata": {},
   "outputs": [
    {
     "name": "stdout",
     "output_type": "stream",
     "text": [
      "Index(['Subject', 'Sample', 'Time.point', 'Gadays', 'Gender',\n",
      "       'mode_of_delivery', 'Relation', 'Group', 'Family', 'birth_weight_g',\n",
      "       'birth_length_cm', 'mother_age_yr', 'father_age_yr', 'Days_after_birth',\n",
      "       'Gestational_age', 'CD27neg_Switched_memory_B_cells',\n",
      "       'CD27pos_Switched_memory_B_cells', 'CD4pos_central_memory_T_cells',\n",
      "       'CD4pos_effector_memory_T_cells', 'CD4pos_Naive_T_cells',\n",
      "       'CD4pos_T_EMRA', 'CD56bright_NK_cells', 'CD56dim_NK_cells',\n",
      "       'CD8pos_central_memory_T_cells', 'CD8pos_effector_memory_T_cells',\n",
      "       'CD8pos_Naive_T_cells', 'CD8pos_T_EMRA', 'Naive_B_cells',\n",
      "       'Plasmablasts', 'Unswitched_memory_B_cells', 'basophils', 'Neutrophils',\n",
      "       'plasmacytoid_DCs', 'CD14pos_monocytes', 'Endothelial_cells', 'mDCs',\n",
      "       'T', 'lymphocytes'],\n",
      "      dtype='object')\n"
     ]
    },
    {
     "data": {
      "text/html": [
       "<div>\n",
       "<style scoped>\n",
       "    .dataframe tbody tr th:only-of-type {\n",
       "        vertical-align: middle;\n",
       "    }\n",
       "\n",
       "    .dataframe tbody tr th {\n",
       "        vertical-align: top;\n",
       "    }\n",
       "\n",
       "    .dataframe thead th {\n",
       "        text-align: right;\n",
       "    }\n",
       "</style>\n",
       "<table border=\"1\" class=\"dataframe\">\n",
       "  <thead>\n",
       "    <tr style=\"text-align: right;\">\n",
       "      <th></th>\n",
       "      <th>Subject</th>\n",
       "      <th>Sample</th>\n",
       "      <th>Time.point</th>\n",
       "      <th>Gadays</th>\n",
       "      <th>Gender</th>\n",
       "      <th>mode_of_delivery</th>\n",
       "      <th>Relation</th>\n",
       "      <th>Group</th>\n",
       "      <th>Family</th>\n",
       "      <th>birth_weight_g</th>\n",
       "      <th>...</th>\n",
       "      <th>Plasmablasts</th>\n",
       "      <th>Unswitched_memory_B_cells</th>\n",
       "      <th>basophils</th>\n",
       "      <th>Neutrophils</th>\n",
       "      <th>plasmacytoid_DCs</th>\n",
       "      <th>CD14pos_monocytes</th>\n",
       "      <th>Endothelial_cells</th>\n",
       "      <th>mDCs</th>\n",
       "      <th>T</th>\n",
       "      <th>lymphocytes</th>\n",
       "    </tr>\n",
       "  </thead>\n",
       "  <tbody>\n",
       "    <tr>\n",
       "      <th>0</th>\n",
       "      <td>118-F</td>\n",
       "      <td>66593980</td>\n",
       "      <td>Birth</td>\n",
       "      <td>188</td>\n",
       "      <td>1.0</td>\n",
       "      <td>NaN</td>\n",
       "      <td>Father</td>\n",
       "      <td>Premature</td>\n",
       "      <td>44.0</td>\n",
       "      <td>NaN</td>\n",
       "      <td>...</td>\n",
       "      <td>0.000450</td>\n",
       "      <td>0.000923</td>\n",
       "      <td>0.001756</td>\n",
       "      <td>0.411444</td>\n",
       "      <td>0.000360</td>\n",
       "      <td>0.059495</td>\n",
       "      <td>0.001666</td>\n",
       "      <td>0.003220</td>\n",
       "      <td>1</td>\n",
       "      <td>0.522057</td>\n",
       "    </tr>\n",
       "    <tr>\n",
       "      <th>1</th>\n",
       "      <td>118</td>\n",
       "      <td>66600173</td>\n",
       "      <td>Cord blood</td>\n",
       "      <td>188</td>\n",
       "      <td>2.0</td>\n",
       "      <td>Vaginal</td>\n",
       "      <td>Child</td>\n",
       "      <td>Premature</td>\n",
       "      <td>44.0</td>\n",
       "      <td>992.0</td>\n",
       "      <td>...</td>\n",
       "      <td>0.000011</td>\n",
       "      <td>0.000110</td>\n",
       "      <td>0.000823</td>\n",
       "      <td>0.770621</td>\n",
       "      <td>0.000296</td>\n",
       "      <td>0.029692</td>\n",
       "      <td>0.007141</td>\n",
       "      <td>0.011835</td>\n",
       "      <td>0</td>\n",
       "      <td>0.179592</td>\n",
       "    </tr>\n",
       "    <tr>\n",
       "      <th>2</th>\n",
       "      <td>118</td>\n",
       "      <td>66600230</td>\n",
       "      <td>Week 1</td>\n",
       "      <td>188</td>\n",
       "      <td>2.0</td>\n",
       "      <td>Vaginal</td>\n",
       "      <td>Child</td>\n",
       "      <td>Premature</td>\n",
       "      <td>44.0</td>\n",
       "      <td>992.0</td>\n",
       "      <td>...</td>\n",
       "      <td>0.000000</td>\n",
       "      <td>0.000275</td>\n",
       "      <td>0.000728</td>\n",
       "      <td>0.534353</td>\n",
       "      <td>0.000405</td>\n",
       "      <td>0.061731</td>\n",
       "      <td>0.003592</td>\n",
       "      <td>0.007476</td>\n",
       "      <td>2</td>\n",
       "      <td>0.391715</td>\n",
       "    </tr>\n",
       "    <tr>\n",
       "      <th>3</th>\n",
       "      <td>118</td>\n",
       "      <td>66627209</td>\n",
       "      <td>Week 4</td>\n",
       "      <td>188</td>\n",
       "      <td>2.0</td>\n",
       "      <td>Vaginal</td>\n",
       "      <td>Child</td>\n",
       "      <td>Premature</td>\n",
       "      <td>44.0</td>\n",
       "      <td>992.0</td>\n",
       "      <td>...</td>\n",
       "      <td>0.000135</td>\n",
       "      <td>0.000067</td>\n",
       "      <td>0.003034</td>\n",
       "      <td>0.504584</td>\n",
       "      <td>0.000135</td>\n",
       "      <td>0.064889</td>\n",
       "      <td>0.021270</td>\n",
       "      <td>0.000978</td>\n",
       "      <td>3</td>\n",
       "      <td>0.405110</td>\n",
       "    </tr>\n",
       "    <tr>\n",
       "      <th>4</th>\n",
       "      <td>118</td>\n",
       "      <td>66627236</td>\n",
       "      <td>Week 12</td>\n",
       "      <td>188</td>\n",
       "      <td>2.0</td>\n",
       "      <td>Vaginal</td>\n",
       "      <td>Child</td>\n",
       "      <td>Premature</td>\n",
       "      <td>44.0</td>\n",
       "      <td>992.0</td>\n",
       "      <td>...</td>\n",
       "      <td>0.000212</td>\n",
       "      <td>0.001439</td>\n",
       "      <td>0.002158</td>\n",
       "      <td>0.160799</td>\n",
       "      <td>0.001566</td>\n",
       "      <td>0.081330</td>\n",
       "      <td>0.003089</td>\n",
       "      <td>0.004443</td>\n",
       "      <td>4</td>\n",
       "      <td>0.746615</td>\n",
       "    </tr>\n",
       "  </tbody>\n",
       "</table>\n",
       "<p>5 rows × 38 columns</p>\n",
       "</div>"
      ],
      "text/plain": [
       "  Subject    Sample  Time.point  Gadays  Gender mode_of_delivery Relation  \\\n",
       "0   118-F  66593980       Birth     188     1.0              NaN   Father   \n",
       "1     118  66600173  Cord blood     188     2.0          Vaginal    Child   \n",
       "2     118  66600230      Week 1     188     2.0          Vaginal    Child   \n",
       "3     118  66627209      Week 4     188     2.0          Vaginal    Child   \n",
       "4     118  66627236     Week 12     188     2.0          Vaginal    Child   \n",
       "\n",
       "       Group  Family  birth_weight_g  ...  Plasmablasts  \\\n",
       "0  Premature    44.0             NaN  ...      0.000450   \n",
       "1  Premature    44.0           992.0  ...      0.000011   \n",
       "2  Premature    44.0           992.0  ...      0.000000   \n",
       "3  Premature    44.0           992.0  ...      0.000135   \n",
       "4  Premature    44.0           992.0  ...      0.000212   \n",
       "\n",
       "   Unswitched_memory_B_cells  basophils  Neutrophils  plasmacytoid_DCs  \\\n",
       "0                   0.000923   0.001756     0.411444          0.000360   \n",
       "1                   0.000110   0.000823     0.770621          0.000296   \n",
       "2                   0.000275   0.000728     0.534353          0.000405   \n",
       "3                   0.000067   0.003034     0.504584          0.000135   \n",
       "4                   0.001439   0.002158     0.160799          0.001566   \n",
       "\n",
       "   CD14pos_monocytes  Endothelial_cells      mDCs  T  lymphocytes  \n",
       "0           0.059495           0.001666  0.003220  1     0.522057  \n",
       "1           0.029692           0.007141  0.011835  0     0.179592  \n",
       "2           0.061731           0.003592  0.007476  2     0.391715  \n",
       "3           0.064889           0.021270  0.000978  3     0.405110  \n",
       "4           0.081330           0.003089  0.004443  4     0.746615  \n",
       "\n",
       "[5 rows x 38 columns]"
      ]
     },
     "execution_count": 6,
     "metadata": {},
     "output_type": "execute_result"
    }
   ],
   "source": [
    "print(dw.columns)\n",
    "dw.head()"
   ]
  },
  {
   "cell_type": "code",
   "execution_count": 7,
   "metadata": {},
   "outputs": [
    {
     "data": {
      "text/plain": [
       "count    337.000000\n",
       "mean       0.350253\n",
       "std        0.191246\n",
       "min        0.042491\n",
       "25%        0.204991\n",
       "50%        0.300132\n",
       "75%        0.461109\n",
       "max        0.911670\n",
       "Name: lymphocytes, dtype: float64"
      ]
     },
     "execution_count": 7,
     "metadata": {},
     "output_type": "execute_result"
    }
   ],
   "source": [
    "dw.lymphocytes.describe()"
   ]
  },
  {
   "cell_type": "code",
   "execution_count": 8,
   "metadata": {},
   "outputs": [],
   "source": [
    "_dm = pd.read_csv(\"/Users/schluj05/data/MSKCCDATA/olin/ALL.unoise.vsearch.tsv\", sep=\"\\t\", header=\"infer\")"
   ]
  },
  {
   "cell_type": "code",
   "execution_count": 9,
   "metadata": {},
   "outputs": [],
   "source": [
    "dm = _dm.set_index('#OTU').T\n",
    "dm.columns.name = None\n",
    "dm.index.name = \"Sample\""
   ]
  },
  {
   "cell_type": "code",
   "execution_count": 10,
   "metadata": {},
   "outputs": [],
   "source": [
    "dm.iloc[0:-3,:] = dm.iloc[0:-3,:].apply(lambda r: r/sum(r), axis=1)"
   ]
  },
  {
   "cell_type": "code",
   "execution_count": 11,
   "metadata": {},
   "outputs": [],
   "source": [
    "dmtax = dm.iloc[-3::,:]\n",
    "dm = dm.iloc[0:-3,:]"
   ]
  },
  {
   "cell_type": "code",
   "execution_count": 12,
   "metadata": {},
   "outputs": [],
   "source": [
    "dmtaxt = dmtax.T\n",
    "taxlevels = np.array(['Kingdom','Phylum', 'Class', 'Order','Family', 'Genus', 'Species' ])\n",
    "tax = pd.DataFrame(index=dmtax.T.index, columns=taxlevels)\n",
    "\n",
    "for ix, r in dmtaxt.iterrows():\n",
    "    t = [x for x in r.Taxonomy.strip().split(';') if x!='']\n",
    "    tls = taxlevels[0:len(t)]\n",
    "    tax.loc[ix][tls] = t\n",
    "\n",
    "        \n",
    "for l in taxlevels:\n",
    "    tax[l] = tax[l].fillna(l+'__'+pd.Series(tax.index, index=tax.index))    \n"
   ]
  },
  {
   "cell_type": "code",
   "execution_count": 13,
   "metadata": {},
   "outputs": [],
   "source": [
    "dm_genus = dm.copy()\n",
    "dm_genus.columns = tax.loc[dm_genus.columns].Genus\n",
    "dm_genus = dm_genus.groupby(dm_genus.columns, axis=1).sum()\n",
    "dm_genus = dm_genus[dm_genus.sum().sort_values(ascending=False).index]"
   ]
  },
  {
   "cell_type": "code",
   "execution_count": 143,
   "metadata": {},
   "outputs": [],
   "source": [
    "dm_family = dm.copy()\n",
    "dm_family.columns = tax.loc[dm_family.columns].Family\n",
    "dm_family = dm_family.groupby(dm_family.columns, axis=1).sum()\n",
    "dm_family = dm_family[dm_family.sum().sort_values(ascending=False).index]"
   ]
  },
  {
   "cell_type": "code",
   "execution_count": 144,
   "metadata": {},
   "outputs": [],
   "source": [
    "dm_phylum = dm.copy()\n",
    "dm_phylum.columns = tax.loc[dm_phylum.columns].Phylum\n",
    "dm_phylum = dm_phylum.groupby(dm_phylum.columns, axis=1).sum()\n",
    "dm_phylum = dm_phylum[dm_phylum.sum().sort_values(ascending=False).index]"
   ]
  },
  {
   "cell_type": "code",
   "execution_count": 16,
   "metadata": {},
   "outputs": [],
   "source": [
    "# prevo = dm[dm.columns[dmtax.loc[\"Taxonomy\"].apply(lambda v: 'Prevotellaceae' in v)]]\n",
    "# prevo.columns = dmtax[dmtax.columns[dmtax.loc[\"Taxonomy\"].apply(lambda v: 'Prevotellaceae' in v)]].loc[\"Taxonomy\"]\n",
    "# plt.scatter((prevo.sum(axis=1)+0.000001).apply(np.log), dw.set_index(\"Sample\").loc[prevo.index]['CD14pos_monocytes'].apply(np.log))"
   ]
  },
  {
   "cell_type": "code",
   "execution_count": 17,
   "metadata": {},
   "outputs": [
    {
     "data": {
      "text/plain": [
       "Genus\n",
       "Escherichia-Shigella             14.696865\n",
       "Staphylococcus                   14.230255\n",
       "Klebsiella                        9.646720\n",
       "Veillonella                       9.503648\n",
       "Enterobacter                      8.042230\n",
       "Bifidobacterium                   6.860858\n",
       "Clostridium_sensu_stricto_1       6.842094\n",
       "Enterococcus                      5.280107\n",
       "Bacteroides                       4.275445\n",
       "Haemophilus                       2.623329\n",
       "Burkholderia-Paraburkholderia     2.581274\n",
       "Akkermansia                       2.367027\n",
       "Achromobacter                     1.717943\n",
       "Serratia                          1.601600\n",
       "Pseudomonas                       1.552769\n",
       "Blautia                           1.427524\n",
       "Genus__Uniq27                     1.270850\n",
       "Ralstonia                         0.880637\n",
       "Lachnoclostridium                 0.588474\n",
       "Peptoclostridium                  0.587041\n",
       "dtype: float64"
      ]
     },
     "execution_count": 17,
     "metadata": {},
     "output_type": "execute_result"
    }
   ],
   "source": [
    "dm_genus.sum().head(20)"
   ]
  },
  {
   "cell_type": "code",
   "execution_count": 18,
   "metadata": {},
   "outputs": [
    {
     "data": {
      "text/plain": [
       "18"
      ]
     },
     "execution_count": 18,
     "metadata": {},
     "output_type": "execute_result"
    }
   ],
   "source": [
    "np.argmax(dm_genus.columns=='Lachnoclostridium')\n"
   ]
  },
  {
   "cell_type": "code",
   "execution_count": 19,
   "metadata": {},
   "outputs": [
    {
     "data": {
      "text/plain": [
       "Index(['Escherichia-Shigella', 'Staphylococcus', 'Klebsiella', 'Veillonella',\n",
       "       'Enterobacter', 'Bifidobacterium', 'Clostridium_sensu_stricto_1',\n",
       "       'Enterococcus', 'Bacteroides', 'Haemophilus',\n",
       "       ...\n",
       "       'Genus__Uniq88053', 'Gemmatimonas', 'Genus__Uniq108972',\n",
       "       'Genus__Uniq104467', 'Genus__Uniq101064', 'Nocardioides',\n",
       "       'Genus__Uniq96786', 'Genus__Uniq86181', 'Genus__Uniq114015',\n",
       "       'Herbaspirillum'],\n",
       "      dtype='object', name='Genus', length=763)"
      ]
     },
     "execution_count": 19,
     "metadata": {},
     "output_type": "execute_result"
    }
   ],
   "source": [
    "dm_genus.columns"
   ]
  },
  {
   "cell_type": "code",
   "execution_count": 86,
   "metadata": {},
   "outputs": [
    {
     "data": {
      "image/png": "[encoded data removed]",
      "text/plain": [
       "<Figure size 432x288 with 1 Axes>"
      ]
     },
     "metadata": {
      "needs_background": "light"
     },
     "output_type": "display_data"
    }
   ],
   "source": [
    "_tax = 'Lactobacillus'\n",
    "wbc = 'Neutrophils'\n",
    "taxon = dm_genus[_tax]+2e-6\n",
    "_t = taxon.apply(np.log10).replace([np.inf, -np.inf], np.nan).dropna()\n",
    "_w = (dw.set_index(\"Sample\")[wbc])\n",
    "\n",
    "_w = _w.reindex(set(_t.index).intersection(_w.index))\n",
    "_t = _t.reindex(set(_t.index).intersection(_w.index))\n",
    "\n",
    "\n",
    "plt.scatter(_t,_w )\n",
    "\n",
    "dreg = pd.DataFrame(columns=['wbc', 'taxon', 'T'])\n",
    "dreg['NLR'] = _w/dw.set_index(\"Sample\").loc[_t.index]['lymphocytes']\n",
    "dreg['wbc'] = _w.apply(np.log10).replace([np.inf, -np.inf], np.nan).dropna()\n",
    "dreg['monocytes'] = dw.set_index(\"Sample\").loc[_t.index]['CD14pos_monocytes'].apply(np.log10)\n",
    "dreg['lymphocytes'] = dw.set_index(\"Sample\").loc[_t.index]['lymphocytes'].apply(np.log10)\n",
    "\n",
    "dreg['taxon'] = _t\n",
    "dreg['subject'] = dw.set_index(\"Sample\").loc[_t.index].Subject\n",
    "dreg['T'] = dw.set_index(\"Sample\").loc[_t.index]['T']\n",
    "\n"
   ]
  },
  {
   "cell_type": "code",
   "execution_count": 87,
   "metadata": {},
   "outputs": [],
   "source": [
    "wbcmodulatortax = ['Faecalibacterium','Akkermansia','Veillonella','Bacteroides','Clostridium_sensu_stricto_1', 'Rothia','Ruminococcus_gnavus_group', \n",
    "                   'Ruminococcus_torques_group', 'Ruminococcaceae_UCG-013','Ruminococcaceae_UCG-005','Ruminococcaceae_UCG-010']\n",
    "\n",
    "dreg = dreg.join(dm_genus[list(wbcmodulatortax)])\n",
    "dreg['Ruminococcaceae'] = dreg[['Ruminococcaceae_UCG-013','Ruminococcaceae_UCG-005','Ruminococcaceae_UCG-010']].sum(axis=1)\n",
    "\n",
    "dreg[list(wbcmodulatortax)+['Ruminococcaceae']] = (dreg[list(wbcmodulatortax)+['Ruminococcaceae']]+2e-6).applymap(np.log10)\n",
    "                 \n",
    "dreg['cT'] = pd.Categorical(dreg['T'])\n",
    "dreg.to_csv(\"r_analyses_phyloumap/olin_for_r.csv\")"
   ]
  },
  {
   "cell_type": "code",
   "execution_count": 80,
   "metadata": {},
   "outputs": [],
   "source": [
    "from scipy.spatial.distance import pdist, squareform"
   ]
  },
  {
   "cell_type": "code",
   "execution_count": 315,
   "metadata": {},
   "outputs": [
    {
     "data": {
      "image/png": "[encoded data removed]",
      "text/plain": [
       "<Figure size 432x288 with 1 Axes>"
      ]
     },
     "metadata": {
      "needs_background": "light"
     },
     "output_type": "display_data"
    }
   ],
   "source": [
    "_tax = 'Lactobacillus'\n",
    "wbc = 'Neutrophils'\n",
    "taxon = dm_genus[_tax]+2e-6\n",
    "_t = taxon.apply(np.log10).replace([np.inf, -np.inf], np.nan).dropna()\n",
    "_w = (dw.set_index(\"Sample\")[wbc])\n",
    "\n",
    "_w = _w.reindex(set(_t.index).intersection(_w.index))\n",
    "_t = _t.reindex(set(_t.index).intersection(_w.index))\n",
    "\n",
    "\n",
    "plt.scatter(_t,_w )\n",
    "\n",
    "dreg = pd.DataFrame(columns=['wbc', 'taxon', 'T'])\n",
    "dreg['NLR'] = _w/dw.set_index(\"Sample\").loc[_t.index]['lymphocytes']\n",
    "dreg['wbc'] = _w.apply(np.log10).replace([np.inf, -np.inf], np.nan).dropna()\n",
    "dreg['monocytes'] = dw.set_index(\"Sample\").loc[_t.index]['CD14pos_monocytes'].apply(np.log10)\n",
    "dreg['lymphocytes'] = dw.set_index(\"Sample\").loc[_t.index]['lymphocytes'].apply(np.log10)\n",
    "\n",
    "dreg['taxon'] = _t\n",
    "dreg['subject'] = dw.set_index(\"Sample\").loc[_t.index].Subject\n",
    "dreg['T'] = dw.set_index(\"Sample\").loc[_t.index]['T']\n",
    "\n",
    "wbcmodulatortax = ['Faecalibacterium','Akkermansia','Veillonella','Bacteroides','Clostridium_sensu_stricto_1', 'Rothia','Ruminococcus_gnavus_group', \n",
    "                   'Ruminococcus_torques_group', 'Ruminococcaceae_UCG-013','Ruminococcaceae_UCG-005','Ruminococcaceae_UCG-010']\n",
    "\n",
    "dreg = dreg.join(dm_genus).join(dm).join(dm_family).join(dm_phylum)\n",
    "\n",
    "all_cols = dm_genus.columns.to_list() + dm.columns.to_list() + dm_family.columns.to_list() + dm_phylum.columns.to_list()\n",
    "# dreg['Ruminococcaceae'] = dreg[['Ruminococcaceae_UCG-013','Ruminococcaceae_UCG-005','Ruminococcaceae_UCG-010']].sum(axis=1)\n",
    "\n",
    "#dreg[list(wbcmodulatortax)+['Ruminococcaceae']] = (dreg[list(wbcmodulatortax)+['Ruminococcaceae']]+2e-6).applymap(np.log10)\n",
    "                 \n",
    "dreg['cT'] = pd.Categorical(dreg['T'])\n",
    "\n",
    "dreg = dreg.sort_values(\"T\")\n",
    "dreg[\"time_weeks\"] = dreg.join(dw.set_index(\"Sample\")[\"Time.point\"])[\"Time.point\"].apply(lambda v: 12. if \"12\" in v else (4. if \"4\" in v else 1.))\n",
    "dreg.to_csv(\"r_analyses_phyloumap/unlogged.csv\")"
   ]
  },
  {
   "cell_type": "code",
   "execution_count": 313,
   "metadata": {},
   "outputs": [],
   "source": []
  },
  {
   "cell_type": "code",
   "execution_count": 291,
   "metadata": {},
   "outputs": [],
   "source": [
    "pdists = np.hstack(\n",
    "    [\n",
    "#        squareform(pdist(dreg[dm.columns], metric=\"cityblock\")),\n",
    "        squareform(pdist(dreg[dm_genus.columns], metric=\"cityblock\")),\n",
    "        squareform(pdist(dreg[dm_family.columns], metric=\"cityblock\")),\n",
    "#        squareform(pdist(dreg[dm_phylum.columns], metric=\"cityblock\"))\n",
    "    ],\n",
    ")"
   ]
  },
  {
   "cell_type": "code",
   "execution_count": 292,
   "metadata": {},
   "outputs": [
    {
     "data": {
      "text/plain": [
       "2.0"
      ]
     },
     "execution_count": 292,
     "metadata": {},
     "output_type": "execute_result"
    }
   ],
   "source": [
    "pdists.shape[1]/83"
   ]
  },
  {
   "cell_type": "code",
   "execution_count": 293,
   "metadata": {},
   "outputs": [],
   "source": [
    "from sklearn.manifold import TSNE\n",
    "from sklearn.preprocessing import LabelEncoder\n",
    "import seaborn as sns\n",
    "\n",
    "tsne = TSNE(perplexity=6, early_exaggeration=1)\n",
    "\n",
    "tsnefit = tsne.fit_transform(pdists, )"
   ]
  },
  {
   "cell_type": "code",
   "execution_count": 299,
   "metadata": {},
   "outputs": [
    {
     "data": {
      "image/png": "[encoded data removed]",
      "text/plain": [
       "<Figure size 864x288 with 3 Axes>"
      ]
     },
     "metadata": {
      "needs_background": "light"
     },
     "output_type": "display_data"
    }
   ],
   "source": [
    "fig, axs = plt.subplots(ncols=3, figsize=(12,4))\n",
    "[ax1, ax2, ax3] = axs\n",
    "\n",
    "dom_genus_lenc = LabelEncoder().fit(dreg[dm_genus.columns].idxmax(axis=1))\n",
    "dom_genus = dom_genus_lenc.transform(dreg[dm_genus.columns].idxmax(axis=1))\n",
    "dom_genus_colors_cm = matplotlib.cm.tab20(dom_genus)\n",
    "for _g, _c in dict(zip(dom_genus,dom_genus_colors_cm)).items():\n",
    "    ix = dom_genus == _g\n",
    "    ax1.scatter(tsnefit[ix,0], tsnefit[ix,1], c=matplotlib.colors.rgb2hex(_c),label=dom_genus_lenc.inverse_transform([_g]),\n",
    "               s=5)\n",
    "handles, labels = ax1.get_legend_handles_labels()\n",
    "by_label = dict(zip(labels, handles))\n",
    "ax1.legend(by_label.values(), by_label.keys(), loc=(-1.2,0))\n",
    "\n",
    "\n",
    "    \n",
    "ax2.scatter(tsnefit[:,0], tsnefit[:,1], cmap=\"tab20\", c=LabelEncoder().fit_transform(dreg.subject), label=dreg.index,\n",
    "           s=5)#.apply(lambda v: np.log10(v+2e-6)))\n",
    "\n",
    "tC_colors_cm = matplotlib.cm.Set1(dreg.cT.astype(int))\n",
    "for  _g, _c in dict(zip(dreg.cT.astype(int), tC_colors_cm)).items():\n",
    "    ix = dreg.cT.astype(int).values == _g\n",
    "    ax3.scatter(tsnefit[ix,0], tsnefit[ix,1], c=matplotlib.colors.rgb2hex(_c),label=_g,\n",
    "               s=5)\n",
    "\n",
    "handles, labels = ax3.get_legend_handles_labels()\n",
    "by_label = dict(zip(labels, handles))\n",
    "ax3.legend(by_label.values(), by_label.keys(), loc=(1.2,0))\n",
    "\n",
    "\n",
    "[ax.set_title(t) for (ax, t) in zip(axs, [\"dom. genus\", \"subject\", \"timepoint\"])]\n",
    "[sns.despine(offset=2,trim=True, ax=ax) for ax in axs]\n",
    "fig.savefig(\"ts-olin-by-dominan-genus.png\", dpi=250, bbox_inches=\"tight\")"
   ]
  },
  {
   "cell_type": "code",
   "execution_count": 300,
   "metadata": {},
   "outputs": [
    {
     "data": {
      "text/plain": [
       "Sample\n",
       "66600164    0.460573\n",
       "66627259    0.540295\n",
       "66627260    0.852026\n",
       "66627266    1.166161\n",
       "66627268    1.182118\n",
       "              ...   \n",
       "66627299    0.137184\n",
       "66627298    0.452923\n",
       "66627297    0.197189\n",
       "66627236    0.215371\n",
       "66627239    0.412765\n",
       "Name: NLR, Length: 83, dtype: float64"
      ]
     },
     "execution_count": 300,
     "metadata": {},
     "output_type": "execute_result"
    }
   ],
   "source": [
    "dreg[\"NLR\"]"
   ]
  },
  {
   "cell_type": "code",
   "execution_count": 277,
   "metadata": {},
   "outputs": [
    {
     "data": {
      "text/plain": [
       "False    83\n",
       "Name: cT, dtype: int64"
      ]
     },
     "execution_count": 277,
     "metadata": {},
     "output_type": "execute_result"
    }
   ],
   "source": [
    "dreg.cT.isna().value_counts()"
   ]
  },
  {
   "cell_type": "code",
   "execution_count": null,
   "metadata": {},
   "outputs": [],
   "source": [
    "dreg.Staphylococcus\n"
   ]
  }
 ],
 "metadata": {
  "kernelspec": {
   "display_name": "Python 3",
   "language": "python",
   "name": "python3"
  },
  "language_info": {
   "codemirror_mode": {
    "name": "ipython",
    "version": 3
   },
   "file_extension": ".py",
   "mimetype": "text/x-python",
   "name": "python",
   "nbconvert_exporter": "python",
   "pygments_lexer": "ipython3",
   "version": "3.8.12"
  }
 },
 "nbformat": 4,
 "nbformat_minor": 4
}
